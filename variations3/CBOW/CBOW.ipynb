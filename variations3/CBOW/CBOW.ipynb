{
 "cells": [
  {
   "cell_type": "code",
   "execution_count": 1,
   "metadata": {
    "id": "D8OkefRFBD-Y"
   },
   "outputs": [],
   "source": [
    "import numpy as np\n",
    "from sklearn.model_selection import train_test_split\n",
    "import tensorflow as tf\n",
    "from tensorflow.keras.layers import Embedding,Dense ,Lambda\n",
    "from tensorflow.keras.preprocessing.text import Tokenizer\n",
    "from tensorflow.keras.models import Sequential"
   ]
  },
  {
   "cell_type": "markdown",
   "metadata": {
    "id": "78VnlB4xL1vm"
   },
   "source": [
    " a. Data preparation"
   ]
  },
  {
   "cell_type": "code",
   "execution_count": 2,
   "metadata": {
    "id": "nacDcyRAC1ih"
   },
   "outputs": [],
   "source": [
    "with open(\"./CBOW.txt\",\"r\") as file:\n",
    "    text=file.read()"
   ]
  },
  {
   "cell_type": "markdown",
   "metadata": {
    "id": "j_ja0wxNDOoZ"
   },
   "source": [
    "Preprocessing text"
   ]
  },
  {
   "cell_type": "code",
   "execution_count": 3,
   "metadata": {
    "colab": {
     "base_uri": "https://localhost:8080/"
    },
    "id": "2lx-5javC_OH",
    "outputId": "cc8257eb-3d44-4a8b-cdd7-97596500fbc5"
   },
   "outputs": [
    {
     "data": {
      "text/plain": [
       "['the speed of transmission is an important point of difference between the two viruses',\n",
       " ' influenza has a shorter median incubation period (the time from infection to appearance of symptoms) and a shorter serial interval (the time between successive cases) than covid-19 virus',\n",
       " ' the serial interval for covid-19 virus is estimated to be 5-6 days, while for influenza virus, the serial interval is 3 days',\n",
       " ' this means that influenza can spread faster than covid-19',\n",
       " ' \\n\\nfurther, transmission in the first 3-5 days of illness, or potentially pre-symptomatic transmission â€“transmission of the virus before the appearance of symptoms â€“ is a major driver of transmission for influenza',\n",
       " ' in contrast, while we are learning that there are people who can shed covid-19 virus 24-48 hours prior to symptom onset, at present, this does not appear to be a major driver of transmission',\n",
       " ' \\n\\nthe reproductive number â€“ the number of secondary infections generated from one infected individual â€“ is understood to be between 2 and 2',\n",
       " '5 for covid-19 virus, higher than for influenza',\n",
       " ' however, estimates for both covid-19 and influenza viruses are very context and time-specific, making direct comparisons more difficult',\n",
       " '  ']"
      ]
     },
     "execution_count": 3,
     "metadata": {},
     "output_type": "execute_result"
    }
   ],
   "source": [
    "sentences=text.split('.')\n",
    "sentences=[s.lower() for s in sentences]\n",
    "sentences"
   ]
  },
  {
   "cell_type": "code",
   "execution_count": 4,
   "metadata": {
    "colab": {
     "base_uri": "https://localhost:8080/"
    },
    "id": "mhxMAtyuDWKQ",
    "outputId": "975822ec-899e-4367-b4a1-855d30ca1bdd"
   },
   "outputs": [
    {
     "name": "stdout",
     "output_type": "stream",
     "text": [
      "[[1, 38, 2, 8, 9, 39, 40, 41, 2, 42, 13, 1, 43, 23], [3, 44, 11, 24, 45, 46, 47, 1, 14, 25, 48, 10, 26, 2, 27, 12, 11, 24, 15, 16, 1, 14, 13, 49, 50, 17, 4, 5, 6], [1, 15, 16, 7, 4, 5, 6, 9, 51, 10, 18, 19, 52, 20, 28, 7, 3, 6, 1, 15, 16, 9, 29, 20], [30, 53, 31, 3, 32, 54, 55, 17, 4, 5], [56, 8, 33, 1, 57, 29, 19, 20, 2, 58, 59, 60, 61, 62, 8, 63, 2, 1, 6, 64, 1, 26, 2, 27, 21, 9, 11, 34, 35, 2, 8, 7, 3], [33, 65, 28, 66, 22, 67, 31, 68, 22, 69, 70, 32, 71, 4, 5, 6, 72, 73, 74, 75, 10, 76, 77, 78, 79, 30, 80, 81, 82, 10, 18, 11, 34, 35, 2, 8], [1, 83, 36, 21, 1, 36, 2, 84, 85, 86, 25, 87, 88, 89, 21, 9, 90, 10, 18, 13, 37, 12, 37], [19, 7, 4, 5, 6, 91, 17, 7, 3], [92, 93, 7, 94, 4, 5, 12, 3, 23, 22, 95, 96, 12, 14, 97, 98, 99, 100, 101, 102], []]\n"
     ]
    }
   ],
   "source": [
    "# Tokenizing the sentences\n",
    "tokenizer=Tokenizer()\n",
    "tokenizer.fit_on_texts(sentences)\n",
    "sequences=tokenizer.texts_to_sequences(sentences)\n",
    "print(sequences)"
   ]
  },
  {
   "cell_type": "code",
   "execution_count": 5,
   "metadata": {
    "colab": {
     "base_uri": "https://localhost:8080/"
    },
    "id": "rBjbQivTDssO",
    "outputId": "e007f813-d941-4d43-c079-3226a1c9c2b6"
   },
   "outputs": [
    {
     "name": "stdout",
     "output_type": "stream",
     "text": [
      "{1: 'the', 2: 'of', 3: 'influenza', 4: 'covid', 5: '19', 6: 'virus', 7: 'for', 8: 'transmission', 9: 'is', 10: 'to', 11: 'a', 12: 'and', 13: 'between', 14: 'time', 15: 'serial', 16: 'interval', 17: 'than', 18: 'be', 19: '5', 20: 'days', 21: 'â€“', 22: 'are', 23: 'viruses', 24: 'shorter', 25: 'from', 26: 'appearance', 27: 'symptoms', 28: 'while', 29: '3', 30: 'this', 31: 'that', 32: 'can', 33: 'in', 34: 'major', 35: 'driver', 36: 'number', 37: '2', 38: 'speed', 39: 'an', 40: 'important', 41: 'point', 42: 'difference', 43: 'two', 44: 'has', 45: 'median', 46: 'incubation', 47: 'period', 48: 'infection', 49: 'successive', 50: 'cases', 51: 'estimated', 52: '6', 53: 'means', 54: 'spread', 55: 'faster', 56: 'further', 57: 'first', 58: 'illness', 59: 'or', 60: 'potentially', 61: 'pre', 62: 'symptomatic', 63: 'â€“transmission', 64: 'before', 65: 'contrast', 66: 'we', 67: 'learning', 68: 'there', 69: 'people', 70: 'who', 71: 'shed', 72: '24', 73: '48', 74: 'hours', 75: 'prior', 76: 'symptom', 77: 'onset', 78: 'at', 79: 'present', 80: 'does', 81: 'not', 82: 'appear', 83: 'reproductive', 84: 'secondary', 85: 'infections', 86: 'generated', 87: 'one', 88: 'infected', 89: 'individual', 90: 'understood', 91: 'higher', 92: 'however', 93: 'estimates', 94: 'both', 95: 'very', 96: 'context', 97: 'specific', 98: 'making', 99: 'direct', 100: 'comparisons', 101: 'more', 102: 'difficult'} \n",
      "\n",
      "{'the': 1, 'of': 2, 'influenza': 3, 'covid': 4, '19': 5, 'virus': 6, 'for': 7, 'transmission': 8, 'is': 9, 'to': 10, 'a': 11, 'and': 12, 'between': 13, 'time': 14, 'serial': 15, 'interval': 16, 'than': 17, 'be': 18, '5': 19, 'days': 20, 'â€“': 21, 'are': 22, 'viruses': 23, 'shorter': 24, 'from': 25, 'appearance': 26, 'symptoms': 27, 'while': 28, '3': 29, 'this': 30, 'that': 31, 'can': 32, 'in': 33, 'major': 34, 'driver': 35, 'number': 36, '2': 37, 'speed': 38, 'an': 39, 'important': 40, 'point': 41, 'difference': 42, 'two': 43, 'has': 44, 'median': 45, 'incubation': 46, 'period': 47, 'infection': 48, 'successive': 49, 'cases': 50, 'estimated': 51, '6': 52, 'means': 53, 'spread': 54, 'faster': 55, 'further': 56, 'first': 57, 'illness': 58, 'or': 59, 'potentially': 60, 'pre': 61, 'symptomatic': 62, 'â€“transmission': 63, 'before': 64, 'contrast': 65, 'we': 66, 'learning': 67, 'there': 68, 'people': 69, 'who': 70, 'shed': 71, '24': 72, '48': 73, 'hours': 74, 'prior': 75, 'symptom': 76, 'onset': 77, 'at': 78, 'present': 79, 'does': 80, 'not': 81, 'appear': 82, 'reproductive': 83, 'secondary': 84, 'infections': 85, 'generated': 86, 'one': 87, 'infected': 88, 'individual': 89, 'understood': 90, 'higher': 91, 'however': 92, 'estimates': 93, 'both': 94, 'very': 95, 'context': 96, 'specific': 97, 'making': 98, 'direct': 99, 'comparisons': 100, 'more': 101, 'difficult': 102}\n"
     ]
    }
   ],
   "source": [
    "index_to_word=tokenizer.index_word\n",
    "word_to_index=tokenizer.word_index\n",
    "print(index_to_word,\"\\n\")\n",
    "print(word_to_index)"
   ]
  },
  {
   "cell_type": "markdown",
   "metadata": {
    "id": "5X9mVL1MEZEt"
   },
   "source": [
    "b. Generate training data ||\n",
    "Creating contexts and targets"
   ]
  },
  {
   "cell_type": "code",
   "execution_count": 6,
   "metadata": {
    "colab": {
     "base_uri": "https://localhost:8080/"
    },
    "id": "yhtuNz8cEOwA",
    "outputId": "42b9a75f-8d8d-4c98-8aab-1a981c7f54fa"
   },
   "outputs": [
    {
     "name": "stdout",
     "output_type": "stream",
     "text": [
      "[[1, 38, 8, 9], [38, 2, 9, 39], [2, 8, 39, 40], [8, 9, 40, 41], [9, 39, 41, 2], [39, 40, 2, 42], [40, 41, 42, 13], [41, 2, 13, 1], [2, 42, 1, 43], [42, 13, 43, 23], [3, 44, 24, 45], [44, 11, 45, 46], [11, 24, 46, 47], [24, 45, 47, 1], [45, 46, 1, 14], [46, 47, 14, 25], [47, 1, 25, 48], [1, 14, 48, 10], [14, 25, 10, 26], [25, 48, 26, 2], [48, 10, 2, 27], [10, 26, 27, 12], [26, 2, 12, 11], [2, 27, 11, 24], [27, 12, 24, 15], [12, 11, 15, 16], [11, 24, 16, 1], [24, 15, 1, 14], [15, 16, 14, 13], [16, 1, 13, 49], [1, 14, 49, 50], [14, 13, 50, 17], [13, 49, 17, 4], [49, 50, 4, 5], [50, 17, 5, 6], [1, 15, 7, 4], [15, 16, 4, 5], [16, 7, 5, 6], [7, 4, 6, 9], [4, 5, 9, 51], [5, 6, 51, 10], [6, 9, 10, 18], [9, 51, 18, 19], [51, 10, 19, 52], [10, 18, 52, 20], [18, 19, 20, 28], [19, 52, 28, 7], [52, 20, 7, 3], [20, 28, 3, 6], [28, 7, 6, 1], [7, 3, 1, 15], [3, 6, 15, 16], [6, 1, 16, 9], [1, 15, 9, 29], [15, 16, 29, 20], [30, 53, 3, 32], [53, 31, 32, 54], [31, 3, 54, 55], [3, 32, 55, 17], [32, 54, 17, 4], [54, 55, 4, 5], [56, 8, 1, 57], [8, 33, 57, 29], [33, 1, 29, 19], [1, 57, 19, 20], [57, 29, 20, 2], [29, 19, 2, 58], [19, 20, 58, 59], [20, 2, 59, 60], [2, 58, 60, 61], [58, 59, 61, 62], [59, 60, 62, 8], [60, 61, 8, 63], [61, 62, 63, 2], [62, 8, 2, 1], [8, 63, 1, 6], [63, 2, 6, 64], [2, 1, 64, 1], [1, 6, 1, 26], [6, 64, 26, 2], [64, 1, 2, 27], [1, 26, 27, 21], [26, 2, 21, 9], [2, 27, 9, 11], [27, 21, 11, 34], [21, 9, 34, 35], [9, 11, 35, 2], [11, 34, 2, 8], [34, 35, 8, 7], [35, 2, 7, 3], [33, 65, 66, 22], [65, 28, 22, 67], [28, 66, 67, 31], [66, 22, 31, 68], [22, 67, 68, 22], [67, 31, 22, 69], [31, 68, 69, 70], [68, 22, 70, 32], [22, 69, 32, 71], [69, 70, 71, 4], [70, 32, 4, 5], [32, 71, 5, 6], [71, 4, 6, 72], [4, 5, 72, 73], [5, 6, 73, 74], [6, 72, 74, 75], [72, 73, 75, 10], [73, 74, 10, 76], [74, 75, 76, 77], [75, 10, 77, 78], [10, 76, 78, 79], [76, 77, 79, 30], [77, 78, 30, 80], [78, 79, 80, 81], [79, 30, 81, 82], [30, 80, 82, 10], [80, 81, 10, 18], [81, 82, 18, 11], [82, 10, 11, 34], [10, 18, 34, 35], [18, 11, 35, 2], [11, 34, 2, 8], [1, 83, 21, 1], [83, 36, 1, 36], [36, 21, 36, 2], [21, 1, 2, 84], [1, 36, 84, 85], [36, 2, 85, 86], [2, 84, 86, 25], [84, 85, 25, 87], [85, 86, 87, 88], [86, 25, 88, 89], [25, 87, 89, 21], [87, 88, 21, 9], [88, 89, 9, 90], [89, 21, 90, 10], [21, 9, 10, 18], [9, 90, 18, 13], [90, 10, 13, 37], [10, 18, 37, 12], [18, 13, 12, 37], [19, 7, 5, 6], [7, 4, 6, 91], [4, 5, 91, 17], [5, 6, 17, 7], [6, 91, 7, 3], [92, 93, 94, 4], [93, 7, 4, 5], [7, 94, 5, 12], [94, 4, 12, 3], [4, 5, 3, 23], [5, 12, 23, 22], [12, 3, 22, 95], [3, 23, 95, 96], [23, 22, 96, 12], [22, 95, 12, 14], [95, 96, 14, 97], [96, 12, 97, 98], [12, 14, 98, 99], [14, 97, 99, 100], [97, 98, 100, 101], [98, 99, 101, 102]] \n",
      "\n",
      "[2, 8, 9, 39, 40, 41, 2, 42, 13, 1, 11, 24, 45, 46, 47, 1, 14, 25, 48, 10, 26, 2, 27, 12, 11, 24, 15, 16, 1, 14, 13, 49, 50, 17, 4, 16, 7, 4, 5, 6, 9, 51, 10, 18, 19, 52, 20, 28, 7, 3, 6, 1, 15, 16, 9, 31, 3, 32, 54, 55, 17, 33, 1, 57, 29, 19, 20, 2, 58, 59, 60, 61, 62, 8, 63, 2, 1, 6, 64, 1, 26, 2, 27, 21, 9, 11, 34, 35, 2, 8, 28, 66, 22, 67, 31, 68, 22, 69, 70, 32, 71, 4, 5, 6, 72, 73, 74, 75, 10, 76, 77, 78, 79, 30, 80, 81, 82, 10, 18, 11, 34, 35, 36, 21, 1, 36, 2, 84, 85, 86, 25, 87, 88, 89, 21, 9, 90, 10, 18, 13, 37, 4, 5, 6, 91, 17, 7, 94, 4, 5, 12, 3, 23, 22, 95, 96, 12, 14, 97, 98, 99, 100]\n"
     ]
    }
   ],
   "source": [
    "vocab_size=len(word_to_index)+1\n",
    "emb_size=100\n",
    "context_size=2\n",
    "contexts=[]\n",
    "targets=[]\n",
    "for sequence in sequences:\n",
    "  for i in range(context_size,len(sequence)-context_size):\n",
    "    context=[sequence[i-2],sequence[i-1],sequence[i+1],sequence[i+2]]\n",
    "    target=sequence[i]\n",
    "    contexts.append(context)\n",
    "    targets.append(target)\n",
    "\n",
    "print(contexts,\"\\n\")\n",
    "print(targets)\n"
   ]
  },
  {
   "cell_type": "code",
   "execution_count": 7,
   "metadata": {
    "colab": {
     "base_uri": "https://localhost:8080/"
    },
    "id": "XTh5gmNKGHSy",
    "outputId": "ba8df7ba-3125-49a9-f326-8326dd454030"
   },
   "outputs": [
    {
     "name": "stdout",
     "output_type": "stream",
     "text": [
      "['the', 'speed', 'transmission', 'is'] => of\n",
      "['speed', 'of', 'is', 'an'] => transmission\n",
      "['of', 'transmission', 'an', 'important'] => is\n",
      "['transmission', 'is', 'important', 'point'] => an\n",
      "['is', 'an', 'point', 'of'] => important\n"
     ]
    }
   ],
   "source": [
    "# Printing features with target\n",
    "for i in range(5):\n",
    "  words=[]\n",
    "  target=index_to_word.get(targets[i])\n",
    "  for j in contexts[i]:\n",
    "    words.append(index_to_word.get(j))\n",
    "  print(words,\"=>\",target)"
   ]
  },
  {
   "cell_type": "markdown",
   "metadata": {
    "id": "Lkyi--EgHLi9"
   },
   "source": [
    "Creating training and testing data\n"
   ]
  },
  {
   "cell_type": "code",
   "execution_count": 8,
   "metadata": {
    "colab": {
     "base_uri": "https://localhost:8080/"
    },
    "id": "XTvEgGcjGiC_",
    "outputId": "e9c53578-3a68-41ba-9f16-d262e20df1f8"
   },
   "outputs": [
    {
     "name": "stdout",
     "output_type": "stream",
     "text": [
      "Shape of x: (162, 4)\n",
      "Shape of y: (162,)\n"
     ]
    }
   ],
   "source": [
    "x=np.array(contexts)\n",
    "y=np.array(targets)\n",
    "print(\"Shape of x:\", x.shape)\n",
    "print(\"Shape of y:\", y.shape)"
   ]
  },
  {
   "cell_type": "markdown",
   "metadata": {
    "id": "WSX0c1ydHrsw"
   },
   "source": [
    "c. Train model  || *Defining model*"
   ]
  },
  {
   "cell_type": "code",
   "execution_count": 9,
   "metadata": {
    "colab": {
     "base_uri": "https://localhost:8080/"
    },
    "id": "cfq2tA6WHgIk",
    "outputId": "942b1d0c-9b69-462d-ce41-41de17ac4111"
   },
   "outputs": [
    {
     "name": "stderr",
     "output_type": "stream",
     "text": [
      "c:\\Users\\Atharva\\AppData\\Local\\Programs\\Python\\Python312\\Lib\\site-packages\\keras\\src\\layers\\core\\embedding.py:90: UserWarning: Argument `input_length` is deprecated. Just remove it.\n",
      "  warnings.warn(\n"
     ]
    }
   ],
   "source": [
    "model=Sequential([\n",
    "    Embedding(input_dim=vocab_size,output_dim=emb_size,input_length=context_size*2),\n",
    "    Lambda(lambda x:tf.reduce_mean(x,axis=1)),\n",
    "    Dense(256,activation='relu'),\n",
    "    Dense(512,activation='relu'),\n",
    "    Dense(vocab_size,activation='softmax')\n",
    "])"
   ]
  },
  {
   "cell_type": "code",
   "execution_count": 10,
   "metadata": {
    "id": "mnuakkYbIaz4"
   },
   "outputs": [],
   "source": [
    "model.compile(optimizer='adam',loss='sparse_categorical_crossentropy',metrics=['accuracy'])"
   ]
  },
  {
   "cell_type": "code",
   "execution_count": 11,
   "metadata": {
    "colab": {
     "base_uri": "https://localhost:8080/"
    },
    "id": "aS7-f8tLIiJr",
    "outputId": "d26aae69-c029-4012-98d3-46f0b6955a3f"
   },
   "outputs": [
    {
     "name": "stdout",
     "output_type": "stream",
     "text": [
      "Epoch 1/20\n",
      "WARNING:tensorflow:From c:\\Users\\Atharva\\AppData\\Local\\Programs\\Python\\Python312\\Lib\\site-packages\\keras\\src\\backend\\tensorflow\\core.py:204: The name tf.placeholder is deprecated. Please use tf.compat.v1.placeholder instead.\n",
      "\n",
      "\u001b[1m6/6\u001b[0m \u001b[32m━━━━━━━━━━━━━━━━━━━━\u001b[0m\u001b[37m\u001b[0m \u001b[1m5s\u001b[0m 10ms/step - accuracy: 0.0290 - loss: 4.6330\n",
      "Epoch 2/20\n",
      "\u001b[1m6/6\u001b[0m \u001b[32m━━━━━━━━━━━━━━━━━━━━\u001b[0m\u001b[37m\u001b[0m \u001b[1m0s\u001b[0m 5ms/step - accuracy: 0.1446 - loss: 4.6070 \n",
      "Epoch 3/20\n",
      "\u001b[1m6/6\u001b[0m \u001b[32m━━━━━━━━━━━━━━━━━━━━\u001b[0m\u001b[37m\u001b[0m \u001b[1m0s\u001b[0m 6ms/step - accuracy: 0.1278 - loss: 4.5725 \n",
      "Epoch 4/20\n",
      "\u001b[1m6/6\u001b[0m \u001b[32m━━━━━━━━━━━━━━━━━━━━\u001b[0m\u001b[37m\u001b[0m \u001b[1m0s\u001b[0m 7ms/step - accuracy: 0.1072 - loss: 4.5156 \n",
      "Epoch 5/20\n",
      "\u001b[1m6/6\u001b[0m \u001b[32m━━━━━━━━━━━━━━━━━━━━\u001b[0m\u001b[37m\u001b[0m \u001b[1m0s\u001b[0m 8ms/step - accuracy: 0.1260 - loss: 4.3900 \n",
      "Epoch 6/20\n",
      "\u001b[1m6/6\u001b[0m \u001b[32m━━━━━━━━━━━━━━━━━━━━\u001b[0m\u001b[37m\u001b[0m \u001b[1m0s\u001b[0m 4ms/step - accuracy: 0.0496 - loss: 4.2648     \n",
      "Epoch 7/20\n",
      "\u001b[1m6/6\u001b[0m \u001b[32m━━━━━━━━━━━━━━━━━━━━\u001b[0m\u001b[37m\u001b[0m \u001b[1m0s\u001b[0m 7ms/step - accuracy: 0.0552 - loss: 4.1055     \n",
      "Epoch 8/20\n",
      "\u001b[1m6/6\u001b[0m \u001b[32m━━━━━━━━━━━━━━━━━━━━\u001b[0m\u001b[37m\u001b[0m \u001b[1m0s\u001b[0m 6ms/step - accuracy: 0.0810 - loss: 4.0387 \n",
      "Epoch 9/20\n",
      "\u001b[1m6/6\u001b[0m \u001b[32m━━━━━━━━━━━━━━━━━━━━\u001b[0m\u001b[37m\u001b[0m \u001b[1m0s\u001b[0m 3ms/step - accuracy: 0.0838 - loss: 3.9049 \n",
      "Epoch 10/20\n",
      "\u001b[1m6/6\u001b[0m \u001b[32m━━━━━━━━━━━━━━━━━━━━\u001b[0m\u001b[37m\u001b[0m \u001b[1m0s\u001b[0m 3ms/step - accuracy: 0.1639 - loss: 3.7388 \n",
      "Epoch 11/20\n",
      "\u001b[1m6/6\u001b[0m \u001b[32m━━━━━━━━━━━━━━━━━━━━\u001b[0m\u001b[37m\u001b[0m \u001b[1m0s\u001b[0m 4ms/step - accuracy: 0.2062 - loss: 3.6011 \n",
      "Epoch 12/20\n",
      "\u001b[1m6/6\u001b[0m \u001b[32m━━━━━━━━━━━━━━━━━━━━\u001b[0m\u001b[37m\u001b[0m \u001b[1m0s\u001b[0m 4ms/step - accuracy: 0.1795 - loss: 3.5111 \n",
      "Epoch 13/20\n",
      "\u001b[1m6/6\u001b[0m \u001b[32m━━━━━━━━━━━━━━━━━━━━\u001b[0m\u001b[37m\u001b[0m \u001b[1m0s\u001b[0m 5ms/step - accuracy: 0.1902 - loss: 3.4038 \n",
      "Epoch 14/20\n",
      "\u001b[1m6/6\u001b[0m \u001b[32m━━━━━━━━━━━━━━━━━━━━\u001b[0m\u001b[37m\u001b[0m \u001b[1m0s\u001b[0m 4ms/step - accuracy: 0.2363 - loss: 3.1306 \n",
      "Epoch 15/20\n",
      "\u001b[1m6/6\u001b[0m \u001b[32m━━━━━━━━━━━━━━━━━━━━\u001b[0m\u001b[37m\u001b[0m \u001b[1m0s\u001b[0m 6ms/step - accuracy: 0.2431 - loss: 3.0453 \n",
      "Epoch 16/20\n",
      "\u001b[1m6/6\u001b[0m \u001b[32m━━━━━━━━━━━━━━━━━━━━\u001b[0m\u001b[37m\u001b[0m \u001b[1m0s\u001b[0m 5ms/step - accuracy: 0.2378 - loss: 2.9373 \n",
      "Epoch 17/20\n",
      "\u001b[1m6/6\u001b[0m \u001b[32m━━━━━━━━━━━━━━━━━━━━\u001b[0m\u001b[37m\u001b[0m \u001b[1m0s\u001b[0m 5ms/step - accuracy: 0.2838 - loss: 2.7569  \n",
      "Epoch 18/20\n",
      "\u001b[1m6/6\u001b[0m \u001b[32m━━━━━━━━━━━━━━━━━━━━\u001b[0m\u001b[37m\u001b[0m \u001b[1m0s\u001b[0m 8ms/step - accuracy: 0.3499 - loss: 2.4950  \n",
      "Epoch 19/20\n",
      "\u001b[1m6/6\u001b[0m \u001b[32m━━━━━━━━━━━━━━━━━━━━\u001b[0m\u001b[37m\u001b[0m \u001b[1m0s\u001b[0m 8ms/step - accuracy: 0.2839 - loss: 2.6009 \n",
      "Epoch 20/20\n",
      "\u001b[1m6/6\u001b[0m \u001b[32m━━━━━━━━━━━━━━━━━━━━\u001b[0m\u001b[37m\u001b[0m \u001b[1m0s\u001b[0m 8ms/step - accuracy: 0.3109 - loss: 2.3562 \n"
     ]
    }
   ],
   "source": [
    "history=model.fit(x,y,epochs=20)"
   ]
  },
  {
   "cell_type": "markdown",
   "metadata": {
    "id": "mxks655_MdoX"
   },
   "source": [
    " d. Output"
   ]
  },
  {
   "cell_type": "code",
   "execution_count": 12,
   "metadata": {
    "colab": {
     "base_uri": "https://localhost:8080/"
    },
    "id": "5diZRPqgIl4p",
    "outputId": "996a73ad-c7b2-4fb2-c662-930cb5bd764b"
   },
   "outputs": [
    {
     "name": "stdout",
     "output_type": "stream",
     "text": [
      "[[ 1 38  8  9]]\n",
      "\u001b[1m1/1\u001b[0m \u001b[32m━━━━━━━━━━━━━━━━━━━━\u001b[0m\u001b[37m\u001b[0m \u001b[1m0s\u001b[0m 83ms/step\n",
      "Context words: ['the', 'speed', 'transmission', 'is']\n",
      "Predicted terget word :  of\n"
     ]
    }
   ],
   "source": [
    "test_words=[index_to_word[index] for index in contexts[0]]\n",
    "\n",
    "input_data=np.expand_dims(contexts[0],axis=0)\n",
    "print(input_data)\n",
    "\n",
    "pred=model.predict(input_data)\n",
    "predicted_index=np.argmax(pred[0])\n",
    "\n",
    "print(\"Context words:\", test_words)\n",
    "print(\"Predicted terget word : \",index_to_word[predicted_index])\n"
   ]
  }
 ],
 "metadata": {
  "colab": {
   "provenance": []
  },
  "kernelspec": {
   "display_name": "Python 3",
   "name": "python3"
  },
  "language_info": {
   "codemirror_mode": {
    "name": "ipython",
    "version": 3
   },
   "file_extension": ".py",
   "mimetype": "text/x-python",
   "name": "python",
   "nbconvert_exporter": "python",
   "pygments_lexer": "ipython3",
   "version": "3.12.1"
  }
 },
 "nbformat": 4,
 "nbformat_minor": 0
}
